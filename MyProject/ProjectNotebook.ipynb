# Project Description

## Temperature Blanket Overview

In this project, I will be using code to help me plan a crochet temperature blanket and keep track of its progress. A crochet temperature blanket needs to have information such as the daily average temperature for a year, the size of what you would like the blanket to be, and the color of the yarn that corresponds to a certain temperature range. The code that I developed will help me reduce the amount of applications that I need gather all the information into one place.


### Part 1: Finding the Daily Average Temperature

This first function allows me to input a specific day to find the average temperature of a given day in La Jolla, San Diego.

A print statment was included after this function to give me a description of what the function was finding (the average temperature), and what was the output of the function.

I would have to edit the input for every day that I would like to find the average temperature of.

### Part 2: Calculating the Crochet Gauge

Gauge swatching is an important planning step in crocheting so that I know how many stitches and rows I need to make in order to reach the desired sizing of my project. 

This function uses inches and a gauge swatch measuring 4 inches by 4 inches in order to calculate how many stitches I make per inch. 

A print statment was included after this function to give me a description of how many stitches and rows I need per inch.

### Part 3: Calculating the Blanket Size

This function allows me to calculate the number of stitches and rows I need to reach the desired width and length of my blanket.

A print statement was included after this function to give me a description of how many stitches and rows I need in order to crochet my desired blanket measurements.

### Part 4: Finding the Yarn Color

In a temperature blanket, the yarn color of a row corresponds to the average temperature of a given day.

After using the function described in Part 1, I would input the given temperature into the Part 4 function to recieve the corresponding yarn color for the day.

### Code Use

I can use this code for other projects using similar concepts. Instead of doing average daily temperature, I can also use the rest of the code to make a blanket based on my daily mood. This code can also be used to make a scarf instead of a blanket simply by adjusting the desired blanket size inputs to fit the measurements of a scarf.

### Extra Credit Explanation

Before taking this class, I had no experience with Python at all. I was hoping to be able to rely on only using the lecture notes for this project, but with the code I wanted to write, I had to extend my knowledge outside of what was taught in class.

For my project, I had to learn how to use the Python library, Beautiful Soup (bs4) in order to be able to write code that can find the daily average temperature. At first, I was hesistant to add in code that finds the daily average temperature because I was unsure on how to approach writing this code as it was not covered in lecture; however, I used resources such as ChatGPT in order to help me develop this portion of my project because I believe that it would be a useful code when planning a temperature blanket. Using this Python library would simplify the amount of resources I needed to plan my temperature blanket.

I also learned how to use the import statment 'requests' in order to use the Beautiful Soup library, which was another skill I learned for coding this particular portion of the project.

I could have made my project more simple by focusing on crochet techniques, but I decided to extend my knowledge of coding and used code to collect website data.

I also wanted to include that ChatGPT helped me develop my test_functions because I was having issues with a collection error, and ChatGPT helped me identify that I needed to include fixtures into my test so that the `pytest` will pass.

I also uploaded by project on GitHub for 1% extra credit as well. 
